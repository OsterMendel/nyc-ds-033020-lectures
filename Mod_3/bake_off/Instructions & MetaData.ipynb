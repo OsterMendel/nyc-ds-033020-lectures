{
 "cells": [
  {
   "cell_type": "markdown",
   "metadata": {},
   "source": [
    "# Classification Bake-off:\n",
    "\n",
    "The goal of this bake off if for students to practice the data science process and handling . Through this process, you will need to clean and prepare the data, engineer features, fit didfferent models, tune the hyperparameters of those models, and account for how any class imbalance can affect your model. \n",
    "\n",
    "## Data Set Information:\n",
    "\n",
    "This dataset contains information about customers' credit card default payments in Taiwan. It was taken from a study that compares the predictive accuracy of probability of default among six data mining methods. This data set is not as clean as some of the data you have previously recieved. Below is all of the information that is given about the different columns of data. As you explore this data you will find that the 'data dictionary' below does not include all of the values that you will find in the actual dataset. You will have to make decisions on your own as to how you will interpret and handle these unknown values.  \n",
    "\n",
    "## Evaluation:\n",
    "\n",
    "For this bake-off, we will be scoring the submitted predictions using the F1 score. \n",
    "\n",
    "\n",
    "## Attribute Information:\n",
    "\n",
    "This research employed a binary variable, default payment (Yes = 1, No = 0), as the response variable. This study reviewed the literature and used the following 23 variables as explanatory variables:\n",
    "<br>\n",
    "X1: Amount of the given credit (NT dollar): it includes both the individual consumer credit and his/her family (supplementary) credit.\n",
    "<br>\n",
    "X2: Gender (1 = male; 2 = female).<br>\n",
    "X3: Education (1 = graduate school; 2 = university; 3 = high school; 4 = others).<br>\n",
    "X4: Marital status (1 = married; 2 = single; 3 = others).<br>\n",
    "X5: Age (year).<br>\n",
    "X6 - X11: History of past payment. We tracked the past monthly payment records (from April to September, 2005) as follows: <br> \n",
    "X6 = the repayment status in September, 2005; <br>\n",
    "X7 = the repayment status in August, 2005; . . .;X11 = the repayment status in April, 2005. The measurement scale for the repayment status is: -1 = pay duly; 1 = payment delay for one month; 2 = payment delay for two months; . . .; <br>\n",
    "8 = payment delay for eight months; <br>\n",
    "9 = payment delay for nine months and above.<br>\n",
    "X12-X17: Amount of bill statement (NT dollar). <br>X12 = amount of bill statement in September, 2005; <br>X13 = amount of bill statement in August, 2005; . . .; <br>X17 = amount of bill statement in April, 2005.\n",
    "<br>X18-X23: Amount of previous payment (NT dollar).<br> X18 = amount paid in September, 2005; <br>X19 = amount paid in August, 2005; . . .; <br>X23 = amount paid in April, 2005."
   ]
  },
  {
   "cell_type": "code",
   "execution_count": 4,
   "metadata": {
    "scrolled": true
   },
   "outputs": [
    {
     "data": {
      "text/plain": [
       "[1, 2, 3]"
      ]
     },
     "execution_count": 4,
     "metadata": {},
     "output_type": "execute_result"
    }
   ],
   "source": [
    "p=[1,2,2,3]\n",
    "list(set(p))"
   ]
  },
  {
   "cell_type": "code",
   "execution_count": null,
   "metadata": {},
   "outputs": [],
   "source": []
  }
 ],
 "metadata": {
  "kernelspec": {
   "display_name": "Python 3",
   "language": "python",
   "name": "python3"
  },
  "language_info": {
   "codemirror_mode": {
    "name": "ipython",
    "version": 3
   },
   "file_extension": ".py",
   "mimetype": "text/x-python",
   "name": "python",
   "nbconvert_exporter": "python",
   "pygments_lexer": "ipython3",
   "version": "3.7.4"
  }
 },
 "nbformat": 4,
 "nbformat_minor": 2
}
