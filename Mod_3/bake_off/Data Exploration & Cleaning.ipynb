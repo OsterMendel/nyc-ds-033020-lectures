{
 "cells": [
  {
   "cell_type": "code",
   "execution_count": null,
   "metadata": {},
   "outputs": [],
   "source": []
  },
  {
   "cell_type": "code",
   "execution_count": 55,
   "metadata": {},
   "outputs": [],
   "source": [
    "import pandas as pd\n",
    "import numpy as np\n",
    "import matplotlib.pyplot as plt\n",
    "import seaborn as sns"
   ]
  },
  {
   "cell_type": "code",
   "execution_count": 3,
   "metadata": {},
   "outputs": [],
   "source": [
    "raw_data = pd.read_csv('dataset.csv',index_col=0)"
   ]
  },
  {
   "cell_type": "code",
   "execution_count": 55,
   "metadata": {},
   "outputs": [
    {
     "data": {
      "text/plain": [
       "(22500, 24)"
      ]
     },
     "execution_count": 55,
     "metadata": {},
     "output_type": "execute_result"
    }
   ],
   "source": [
    "raw_data.shape"
   ]
  },
  {
   "cell_type": "code",
   "execution_count": 56,
   "metadata": {},
   "outputs": [
    {
     "data": {
      "text/plain": [
       "['LIMIT_BAL',\n",
       " 'SEX',\n",
       " 'EDUCATION',\n",
       " 'MARRIAGE',\n",
       " 'AGE',\n",
       " 'PAY_0',\n",
       " 'PAY_2',\n",
       " 'PAY_3',\n",
       " 'PAY_4',\n",
       " 'PAY_5',\n",
       " 'PAY_6',\n",
       " 'BILL_AMT1',\n",
       " 'BILL_AMT2',\n",
       " 'BILL_AMT3',\n",
       " 'BILL_AMT4',\n",
       " 'BILL_AMT5',\n",
       " 'BILL_AMT6',\n",
       " 'PAY_AMT1',\n",
       " 'PAY_AMT2',\n",
       " 'PAY_AMT3',\n",
       " 'PAY_AMT4',\n",
       " 'PAY_AMT5',\n",
       " 'PAY_AMT6',\n",
       " 'default payment next month']"
      ]
     },
     "execution_count": 56,
     "metadata": {},
     "output_type": "execute_result"
    }
   ],
   "source": [
    "list(raw_data.columns)"
   ]
  },
  {
   "cell_type": "code",
   "execution_count": 11,
   "metadata": {
    "scrolled": true
   },
   "outputs": [
    {
     "data": {
      "text/html": [
       "<div>\n",
       "<style scoped>\n",
       "    .dataframe tbody tr th:only-of-type {\n",
       "        vertical-align: middle;\n",
       "    }\n",
       "\n",
       "    .dataframe tbody tr th {\n",
       "        vertical-align: top;\n",
       "    }\n",
       "\n",
       "    .dataframe thead th {\n",
       "        text-align: right;\n",
       "    }\n",
       "</style>\n",
       "<table border=\"1\" class=\"dataframe\">\n",
       "  <thead>\n",
       "    <tr style=\"text-align: right;\">\n",
       "      <th></th>\n",
       "      <th>LIMIT_BAL</th>\n",
       "      <th>SEX</th>\n",
       "      <th>EDUCATION</th>\n",
       "      <th>MARRIAGE</th>\n",
       "      <th>AGE</th>\n",
       "      <th>PAY_0</th>\n",
       "      <th>PAY_2</th>\n",
       "      <th>PAY_3</th>\n",
       "      <th>PAY_4</th>\n",
       "      <th>PAY_5</th>\n",
       "      <th>...</th>\n",
       "      <th>BILL_AMT4</th>\n",
       "      <th>BILL_AMT5</th>\n",
       "      <th>BILL_AMT6</th>\n",
       "      <th>PAY_AMT1</th>\n",
       "      <th>PAY_AMT2</th>\n",
       "      <th>PAY_AMT3</th>\n",
       "      <th>PAY_AMT4</th>\n",
       "      <th>PAY_AMT5</th>\n",
       "      <th>PAY_AMT6</th>\n",
       "      <th>default payment next month</th>\n",
       "    </tr>\n",
       "  </thead>\n",
       "  <tbody>\n",
       "    <tr>\n",
       "      <td>0</td>\n",
       "      <td>200000</td>\n",
       "      <td>2</td>\n",
       "      <td>3</td>\n",
       "      <td>1</td>\n",
       "      <td>30</td>\n",
       "      <td>2</td>\n",
       "      <td>2</td>\n",
       "      <td>2</td>\n",
       "      <td>2</td>\n",
       "      <td>2</td>\n",
       "      <td>...</td>\n",
       "      <td>147273</td>\n",
       "      <td>149244</td>\n",
       "      <td>151973</td>\n",
       "      <td>6600</td>\n",
       "      <td>6000</td>\n",
       "      <td>5860</td>\n",
       "      <td>6000</td>\n",
       "      <td>5000</td>\n",
       "      <td>0</td>\n",
       "      <td>0</td>\n",
       "    </tr>\n",
       "    <tr>\n",
       "      <td>1</td>\n",
       "      <td>200000</td>\n",
       "      <td>2</td>\n",
       "      <td>4</td>\n",
       "      <td>2</td>\n",
       "      <td>27</td>\n",
       "      <td>-2</td>\n",
       "      <td>-2</td>\n",
       "      <td>-2</td>\n",
       "      <td>-2</td>\n",
       "      <td>-2</td>\n",
       "      <td>...</td>\n",
       "      <td>0</td>\n",
       "      <td>0</td>\n",
       "      <td>0</td>\n",
       "      <td>0</td>\n",
       "      <td>0</td>\n",
       "      <td>0</td>\n",
       "      <td>0</td>\n",
       "      <td>0</td>\n",
       "      <td>0</td>\n",
       "      <td>0</td>\n",
       "    </tr>\n",
       "    <tr>\n",
       "      <td>2</td>\n",
       "      <td>20000</td>\n",
       "      <td>2</td>\n",
       "      <td>2</td>\n",
       "      <td>2</td>\n",
       "      <td>28</td>\n",
       "      <td>0</td>\n",
       "      <td>0</td>\n",
       "      <td>2</td>\n",
       "      <td>0</td>\n",
       "      <td>0</td>\n",
       "      <td>...</td>\n",
       "      <td>8168</td>\n",
       "      <td>6894</td>\n",
       "      <td>11424</td>\n",
       "      <td>3353</td>\n",
       "      <td>3</td>\n",
       "      <td>5101</td>\n",
       "      <td>6</td>\n",
       "      <td>6530</td>\n",
       "      <td>8103</td>\n",
       "      <td>1</td>\n",
       "    </tr>\n",
       "    <tr>\n",
       "      <td>3</td>\n",
       "      <td>50000</td>\n",
       "      <td>1</td>\n",
       "      <td>2</td>\n",
       "      <td>2</td>\n",
       "      <td>23</td>\n",
       "      <td>0</td>\n",
       "      <td>0</td>\n",
       "      <td>0</td>\n",
       "      <td>-1</td>\n",
       "      <td>0</td>\n",
       "      <td>...</td>\n",
       "      <td>48437</td>\n",
       "      <td>18712</td>\n",
       "      <td>19129</td>\n",
       "      <td>4175</td>\n",
       "      <td>41000</td>\n",
       "      <td>51705</td>\n",
       "      <td>700</td>\n",
       "      <td>718</td>\n",
       "      <td>700</td>\n",
       "      <td>0</td>\n",
       "    </tr>\n",
       "    <tr>\n",
       "      <td>4</td>\n",
       "      <td>20000</td>\n",
       "      <td>1</td>\n",
       "      <td>2</td>\n",
       "      <td>1</td>\n",
       "      <td>47</td>\n",
       "      <td>-1</td>\n",
       "      <td>-1</td>\n",
       "      <td>-1</td>\n",
       "      <td>-2</td>\n",
       "      <td>-2</td>\n",
       "      <td>...</td>\n",
       "      <td>0</td>\n",
       "      <td>0</td>\n",
       "      <td>0</td>\n",
       "      <td>780</td>\n",
       "      <td>0</td>\n",
       "      <td>0</td>\n",
       "      <td>0</td>\n",
       "      <td>0</td>\n",
       "      <td>0</td>\n",
       "      <td>0</td>\n",
       "    </tr>\n",
       "  </tbody>\n",
       "</table>\n",
       "<p>5 rows × 24 columns</p>\n",
       "</div>"
      ],
      "text/plain": [
       "   LIMIT_BAL  SEX  EDUCATION  MARRIAGE  AGE  PAY_0  PAY_2  PAY_3  PAY_4  \\\n",
       "0     200000    2          3         1   30      2      2      2      2   \n",
       "1     200000    2          4         2   27     -2     -2     -2     -2   \n",
       "2      20000    2          2         2   28      0      0      2      0   \n",
       "3      50000    1          2         2   23      0      0      0     -1   \n",
       "4      20000    1          2         1   47     -1     -1     -1     -2   \n",
       "\n",
       "   PAY_5  ...  BILL_AMT4  BILL_AMT5  BILL_AMT6  PAY_AMT1  PAY_AMT2  PAY_AMT3  \\\n",
       "0      2  ...     147273     149244     151973      6600      6000      5860   \n",
       "1     -2  ...          0          0          0         0         0         0   \n",
       "2      0  ...       8168       6894      11424      3353         3      5101   \n",
       "3      0  ...      48437      18712      19129      4175     41000     51705   \n",
       "4     -2  ...          0          0          0       780         0         0   \n",
       "\n",
       "   PAY_AMT4  PAY_AMT5  PAY_AMT6  default payment next month  \n",
       "0      6000      5000         0                           0  \n",
       "1         0         0         0                           0  \n",
       "2         6      6530      8103                           1  \n",
       "3       700       718       700                           0  \n",
       "4         0         0         0                           0  \n",
       "\n",
       "[5 rows x 24 columns]"
      ]
     },
     "execution_count": 11,
     "metadata": {},
     "output_type": "execute_result"
    }
   ],
   "source": [
    "raw_data.head()"
   ]
  },
  {
   "cell_type": "code",
   "execution_count": 88,
   "metadata": {},
   "outputs": [
    {
     "data": {
      "text/plain": [
       "SEX\n",
       "1    54365.158112\n",
       "2    48951.263333\n",
       "Name: BILL_AMT1, dtype: float64"
      ]
     },
     "execution_count": 88,
     "metadata": {},
     "output_type": "execute_result"
    }
   ],
   "source": [
    "raw_data.groupby('SEX')['BILL_AMT1'].mean()"
   ]
  },
  {
   "cell_type": "code",
   "execution_count": 90,
   "metadata": {},
   "outputs": [
    {
     "data": {
      "text/plain": [
       "LIMIT_BAL                      80000\n",
       "SEX                                2\n",
       "EDUCATION                          3\n",
       "MARRIAGE                           2\n",
       "AGE                               47\n",
       "PAY_0                             -2\n",
       "PAY_2                             -2\n",
       "PAY_3                             -2\n",
       "PAY_4                             -2\n",
       "PAY_5                             -2\n",
       "PAY_6                             -1\n",
       "BILL_AMT1                     194843\n",
       "BILL_AMT2                     197581\n",
       "BILL_AMT3                     202150\n",
       "BILL_AMT4                          0\n",
       "BILL_AMT5                          0\n",
       "BILL_AMT6                      48855\n",
       "PAY_AMT1                        5501\n",
       "PAY_AMT2                        6150\n",
       "PAY_AMT3                           0\n",
       "PAY_AMT4                           0\n",
       "PAY_AMT5                       48855\n",
       "PAY_AMT6                        1832\n",
       "default payment next month         0\n",
       "Name: 10, dtype: int64"
      ]
     },
     "execution_count": 90,
     "metadata": {},
     "output_type": "execute_result"
    }
   ],
   "source": [
    "raw_data.iloc[10]"
   ]
  },
  {
   "cell_type": "code",
   "execution_count": 107,
   "metadata": {
    "scrolled": true
   },
   "outputs": [
    {
     "data": {
      "text/html": [
       "<div>\n",
       "<style scoped>\n",
       "    .dataframe tbody tr th:only-of-type {\n",
       "        vertical-align: middle;\n",
       "    }\n",
       "\n",
       "    .dataframe tbody tr th {\n",
       "        vertical-align: top;\n",
       "    }\n",
       "\n",
       "    .dataframe thead th {\n",
       "        text-align: right;\n",
       "    }\n",
       "</style>\n",
       "<table border=\"1\" class=\"dataframe\">\n",
       "  <thead>\n",
       "    <tr style=\"text-align: right;\">\n",
       "      <th></th>\n",
       "      <th>BILL_AMT1</th>\n",
       "      <th>BILL_AMT2</th>\n",
       "      <th>BILL_AMT3</th>\n",
       "      <th>BILL_AMT4</th>\n",
       "      <th>BILL_AMT5</th>\n",
       "      <th>BILL_AMT6</th>\n",
       "    </tr>\n",
       "  </thead>\n",
       "  <tbody>\n",
       "    <tr>\n",
       "      <td>count</td>\n",
       "      <td>2036.000000</td>\n",
       "      <td>2036.000000</td>\n",
       "      <td>2036.000000</td>\n",
       "      <td>2036.000000</td>\n",
       "      <td>2036.000000</td>\n",
       "      <td>2036.000000</td>\n",
       "    </tr>\n",
       "    <tr>\n",
       "      <td>mean</td>\n",
       "      <td>8628.743124</td>\n",
       "      <td>8767.955796</td>\n",
       "      <td>9616.888016</td>\n",
       "      <td>9824.306974</td>\n",
       "      <td>10035.379666</td>\n",
       "      <td>9846.412083</td>\n",
       "    </tr>\n",
       "    <tr>\n",
       "      <td>std</td>\n",
       "      <td>27963.907815</td>\n",
       "      <td>27508.889484</td>\n",
       "      <td>29327.597185</td>\n",
       "      <td>30802.761903</td>\n",
       "      <td>29323.067058</td>\n",
       "      <td>29985.168321</td>\n",
       "    </tr>\n",
       "    <tr>\n",
       "      <td>min</td>\n",
       "      <td>-15308.000000</td>\n",
       "      <td>-33350.000000</td>\n",
       "      <td>-15641.000000</td>\n",
       "      <td>-65167.000000</td>\n",
       "      <td>-20753.000000</td>\n",
       "      <td>-209051.000000</td>\n",
       "    </tr>\n",
       "    <tr>\n",
       "      <td>25%</td>\n",
       "      <td>0.000000</td>\n",
       "      <td>0.000000</td>\n",
       "      <td>0.000000</td>\n",
       "      <td>0.000000</td>\n",
       "      <td>0.000000</td>\n",
       "      <td>0.000000</td>\n",
       "    </tr>\n",
       "    <tr>\n",
       "      <td>50%</td>\n",
       "      <td>1244.000000</td>\n",
       "      <td>1162.000000</td>\n",
       "      <td>1097.000000</td>\n",
       "      <td>1000.000000</td>\n",
       "      <td>866.000000</td>\n",
       "      <td>881.000000</td>\n",
       "    </tr>\n",
       "    <tr>\n",
       "      <td>75%</td>\n",
       "      <td>5964.500000</td>\n",
       "      <td>5880.000000</td>\n",
       "      <td>5724.750000</td>\n",
       "      <td>6010.250000</td>\n",
       "      <td>6063.750000</td>\n",
       "      <td>5864.750000</td>\n",
       "    </tr>\n",
       "    <tr>\n",
       "      <td>max</td>\n",
       "      <td>478030.000000</td>\n",
       "      <td>419644.000000</td>\n",
       "      <td>309622.000000</td>\n",
       "      <td>339176.000000</td>\n",
       "      <td>286939.000000</td>\n",
       "      <td>295891.000000</td>\n",
       "    </tr>\n",
       "  </tbody>\n",
       "</table>\n",
       "</div>"
      ],
      "text/plain": [
       "           BILL_AMT1      BILL_AMT2      BILL_AMT3      BILL_AMT4  \\\n",
       "count    2036.000000    2036.000000    2036.000000    2036.000000   \n",
       "mean     8628.743124    8767.955796    9616.888016    9824.306974   \n",
       "std     27963.907815   27508.889484   29327.597185   30802.761903   \n",
       "min    -15308.000000  -33350.000000  -15641.000000  -65167.000000   \n",
       "25%         0.000000       0.000000       0.000000       0.000000   \n",
       "50%      1244.000000    1162.000000    1097.000000    1000.000000   \n",
       "75%      5964.500000    5880.000000    5724.750000    6010.250000   \n",
       "max    478030.000000  419644.000000  309622.000000  339176.000000   \n",
       "\n",
       "           BILL_AMT5      BILL_AMT6  \n",
       "count    2036.000000    2036.000000  \n",
       "mean    10035.379666    9846.412083  \n",
       "std     29323.067058   29985.168321  \n",
       "min    -20753.000000 -209051.000000  \n",
       "25%         0.000000       0.000000  \n",
       "50%       866.000000     881.000000  \n",
       "75%      6063.750000    5864.750000  \n",
       "max    286939.000000  295891.000000  "
      ]
     },
     "execution_count": 107,
     "metadata": {},
     "output_type": "execute_result"
    }
   ],
   "source": [
    "raw_data[raw_data['PAY_0']==-2][['BILL_AMT1',\n",
    " 'BILL_AMT2',\n",
    " 'BILL_AMT3',\n",
    " 'BILL_AMT4',\n",
    " 'BILL_AMT5',\n",
    " 'BILL_AMT6']].describe()"
   ]
  },
  {
   "cell_type": "code",
   "execution_count": 157,
   "metadata": {},
   "outputs": [
    {
     "data": {
      "text/plain": [
       "24"
      ]
     },
     "execution_count": 157,
     "metadata": {},
     "output_type": "execute_result"
    }
   ],
   "source": [
    "raw_data.index[(raw_data['BILL_AMT1']<0) |\n",
    "         (raw_data['BILL_AMT2']<0) |\n",
    "         (raw_data['BILL_AMT3']<0) |\n",
    "         (raw_data['BILL_AMT4']<0) |\n",
    "         (raw_data['BILL_AMT5']<0) |\n",
    "         (raw_data['BILL_AMT6']<0)][0]"
   ]
  },
  {
   "cell_type": "code",
   "execution_count": 162,
   "metadata": {
    "scrolled": false
   },
   "outputs": [
    {
     "data": {
      "text/plain": [
       "LIMIT_BAL                     150000\n",
       "SEX                                2\n",
       "EDUCATION                          1\n",
       "MARRIAGE                           1\n",
       "AGE                               43\n",
       "PAY_0                             -2\n",
       "PAY_2                             -2\n",
       "PAY_3                             -2\n",
       "PAY_4                             -1\n",
       "PAY_5                              0\n",
       "PAY_6                             -1\n",
       "BILL_AMT1                        885\n",
       "BILL_AMT2                       -123\n",
       "BILL_AMT3                       -123\n",
       "BILL_AMT4                        240\n",
       "BILL_AMT5                        123\n",
       "BILL_AMT6                        123\n",
       "PAY_AMT1                         123\n",
       "PAY_AMT2                           0\n",
       "PAY_AMT3                         363\n",
       "PAY_AMT4                           0\n",
       "PAY_AMT5                         123\n",
       "PAY_AMT6                         123\n",
       "default payment next month         0\n",
       "Name: 24, dtype: int64"
      ]
     },
     "execution_count": 162,
     "metadata": {},
     "output_type": "execute_result"
    }
   ],
   "source": [
    "raw_data[(raw_data['BILL_AMT1']<0) |\n",
    "         (raw_data['BILL_AMT2']<0) |\n",
    "         (raw_data['BILL_AMT3']<0) |\n",
    "         (raw_data['BILL_AMT4']<0) |\n",
    "         (raw_data['BILL_AMT5']<0) |\n",
    "         (raw_data['BILL_AMT6']<0)].iloc[0]"
   ]
  },
  {
   "cell_type": "code",
   "execution_count": 158,
   "metadata": {},
   "outputs": [
    {
     "data": {
      "text/plain": [
       "PAY_AMT6    123\n",
       "PAY_AMT5    123\n",
       "PAY_AMT4      0\n",
       "PAY_AMT3    363\n",
       "PAY_AMT2      0\n",
       "PAY_AMT1    123\n",
       "Name: 24, dtype: int64"
      ]
     },
     "execution_count": 158,
     "metadata": {},
     "output_type": "execute_result"
    }
   ],
   "source": [
    "payments_test = raw_data[['PAY_AMT1','PAY_AMT2',\n",
    " 'PAY_AMT3',\n",
    " 'PAY_AMT4',\n",
    " 'PAY_AMT5',\n",
    " 'PAY_AMT6']].iloc[24][::-1]\n",
    "payments_test"
   ]
  },
  {
   "cell_type": "code",
   "execution_count": 161,
   "metadata": {},
   "outputs": [
    {
     "data": {
      "text/plain": [
       "BILL_AMT6    123\n",
       "BILL_AMT5    123\n",
       "BILL_AMT4    240\n",
       "BILL_AMT3   -123\n",
       "BILL_AMT2   -123\n",
       "BILL_AMT1    885\n",
       "Name: 24, dtype: int64"
      ]
     },
     "execution_count": 161,
     "metadata": {},
     "output_type": "execute_result"
    }
   ],
   "source": [
    "bill_test = raw_data[['BILL_AMT1',\n",
    " 'BILL_AMT2',\n",
    " 'BILL_AMT3',\n",
    " 'BILL_AMT4',\n",
    " 'BILL_AMT5',\n",
    " 'BILL_AMT6',]].iloc[24][::-1]\n",
    "bill_test"
   ]
  },
  {
   "cell_type": "code",
   "execution_count": 160,
   "metadata": {
    "scrolled": false
   },
   "outputs": [
    {
     "data": {
      "image/png": "[encoded data removed]",
      "text/plain": [
       "<Figure size 432x288 with 1 Axes>"
      ]
     },
     "metadata": {
      "needs_background": "light"
     },
     "output_type": "display_data"
    }
   ],
   "source": [
    "xlabels = ['April', 'May', 'June', 'July', 'August', 'September']\n",
    "plt.plot(xlabels,payments_test,label='Payments');\n",
    "plt.plot(xlabels,bill_test,label='bill statement');\n",
    "plt.legend();\n",
    "plt.show()"
   ]
  },
  {
   "cell_type": "code",
   "execution_count": 114,
   "metadata": {},
   "outputs": [
    {
     "data": {
      "text/plain": [
       "1184"
      ]
     },
     "execution_count": 114,
     "metadata": {},
     "output_type": "execute_result"
    }
   ],
   "source": [
    "\n",
    "\n",
    "\n",
    "y = $$\n",
    "\n",
    "two lines, bill statement; paymenmt amount\n",
    "\n",
    "\n",
    "\n",
    "xaxis. sep, jun, jul aug sep"
   ]
  },
  {
   "cell_type": "code",
   "execution_count": 99,
   "metadata": {
    "scrolled": true
   },
   "outputs": [
    {
     "data": {
      "text/plain": [
       " 1    589\n",
       "-2    311\n",
       "Name: PAY_0, dtype: int64"
      ]
     },
     "execution_count": 99,
     "metadata": {},
     "output_type": "execute_result"
    }
   ],
   "source": [
    "raw_data[(raw_data['BILL_AMT1']==0) & (raw_data['BILL_AMT2']==0) & (raw_data['BILL_AMT3']==0)]['PAY_0'].value_counts()"
   ]
  },
  {
   "cell_type": "code",
   "execution_count": 54,
   "metadata": {
    "collapsed": true
   },
   "outputs": [
    {
     "name": "stdout",
     "output_type": "stream",
     "text": [
      "<class 'pandas.core.frame.DataFrame'>\n",
      "Int64Index: 22500 entries, 0 to 22499\n",
      "Data columns (total 24 columns):\n",
      "LIMIT_BAL                     22500 non-null int64\n",
      "SEX                           22500 non-null int64\n",
      "EDUCATION                     22500 non-null int64\n",
      "MARRIAGE                      22500 non-null int64\n",
      "AGE                           22500 non-null int64\n",
      "PAY_0                         22500 non-null int64\n",
      "PAY_2                         22500 non-null int64\n",
      "PAY_3                         22500 non-null int64\n",
      "PAY_4                         22500 non-null int64\n",
      "PAY_5                         22500 non-null int64\n",
      "PAY_6                         22500 non-null int64\n",
      "BILL_AMT1                     22500 non-null int64\n",
      "BILL_AMT2                     22500 non-null int64\n",
      "BILL_AMT3                     22500 non-null int64\n",
      "BILL_AMT4                     22500 non-null int64\n",
      "BILL_AMT5                     22500 non-null int64\n",
      "BILL_AMT6                     22500 non-null int64\n",
      "PAY_AMT1                      22500 non-null int64\n",
      "PAY_AMT2                      22500 non-null int64\n",
      "PAY_AMT3                      22500 non-null int64\n",
      "PAY_AMT4                      22500 non-null int64\n",
      "PAY_AMT5                      22500 non-null int64\n",
      "PAY_AMT6                      22500 non-null int64\n",
      "default payment next month    22500 non-null int64\n",
      "dtypes: int64(24)\n",
      "memory usage: 4.3 MB\n"
     ]
    }
   ],
   "source": [
    "raw_data.info()"
   ]
  },
  {
   "cell_type": "code",
   "execution_count": 84,
   "metadata": {},
   "outputs": [
    {
     "data": {
      "text/plain": [
       "array([ 2, -2,  0, -1,  3,  5,  7,  6,  8,  4])"
      ]
     },
     "execution_count": 84,
     "metadata": {},
     "output_type": "execute_result"
    }
   ],
   "source": [
    "raw_data['PAY_6'].unique()"
   ]
  },
  {
   "cell_type": "code",
   "execution_count": 85,
   "metadata": {},
   "outputs": [
    {
     "data": {
      "image/png": "[encoded data removed]",
      "text/plain": [
       "<Figure size 432x288 with 1 Axes>"
      ]
     },
     "metadata": {
      "needs_background": "light"
     },
     "output_type": "display_data"
    }
   ],
   "source": [
    "plt.scatter(raw_data['PAY_0'],raw_data['BILL_AMT1']);\n",
    "plt.scatter(raw_data['PAY_0'],raw_data['PAY_AMT1'])\n",
    "plt.title('September')\n",
    "plt.ylabel('payment amount')\n",
    "plt.xlabel('payment status')\n",
    "plt.show()"
   ]
  },
  {
   "cell_type": "code",
   "execution_count": 60,
   "metadata": {},
   "outputs": [],
   "source": [
    "target = raw_data['default payment next month']\n",
    "features = ['LIMIT_BAL',\n",
    " 'SEX',\n",
    " 'EDUCATION',\n",
    " 'MARRIAGE',\n",
    " 'AGE',\n",
    " 'PAY_0',\n",
    " 'PAY_2',\n",
    " 'PAY_3',\n",
    " 'PAY_4',\n",
    " 'PAY_5',\n",
    " 'PAY_6',\n",
    " 'BILL_AMT1',\n",
    " 'BILL_AMT2',\n",
    " 'BILL_AMT3',\n",
    " 'BILL_AMT4',\n",
    " 'BILL_AMT5',\n",
    " 'BILL_AMT6',\n",
    " 'PAY_AMT1',\n",
    " 'PAY_AMT2',\n",
    " 'PAY_AMT3',\n",
    " 'PAY_AMT4',\n",
    " 'PAY_AMT5',\n",
    " 'PAY_AMT6']"
   ]
  },
  {
   "cell_type": "code",
   "execution_count": 35,
   "metadata": {},
   "outputs": [
    {
     "data": {
      "text/plain": [
       "LIMIT_BAL                     0\n",
       "SEX                           0\n",
       "EDUCATION                     0\n",
       "MARRIAGE                      0\n",
       "AGE                           0\n",
       "PAY_0                         0\n",
       "PAY_2                         0\n",
       "PAY_3                         0\n",
       "PAY_4                         0\n",
       "PAY_5                         0\n",
       "PAY_6                         0\n",
       "BILL_AMT1                     0\n",
       "BILL_AMT2                     0\n",
       "BILL_AMT3                     0\n",
       "BILL_AMT4                     0\n",
       "BILL_AMT5                     0\n",
       "BILL_AMT6                     0\n",
       "PAY_AMT1                      0\n",
       "PAY_AMT2                      0\n",
       "PAY_AMT3                      0\n",
       "PAY_AMT4                      0\n",
       "PAY_AMT5                      0\n",
       "PAY_AMT6                      0\n",
       "default payment next month    0\n",
       "dtype: int64"
      ]
     },
     "execution_count": 35,
     "metadata": {},
     "output_type": "execute_result"
    }
   ],
   "source": [
    "raw_data.isna().sum()"
   ]
  },
  {
   "cell_type": "code",
   "execution_count": 36,
   "metadata": {},
   "outputs": [
    {
     "data": {
      "text/plain": [
       "count      22500.000000\n",
       "mean      167267.274667\n",
       "std       129383.700485\n",
       "min        10000.000000\n",
       "25%        50000.000000\n",
       "50%       140000.000000\n",
       "75%       240000.000000\n",
       "max      1000000.000000\n",
       "Name: LIMIT_BAL, dtype: float64"
      ]
     },
     "execution_count": 36,
     "metadata": {},
     "output_type": "execute_result"
    }
   ],
   "source": [
    "raw_data['LIMIT_BAL'].describe()"
   ]
  },
  {
   "cell_type": "code",
   "execution_count": 44,
   "metadata": {
    "scrolled": false
   },
   "outputs": [
    {
     "data": {
      "text/plain": [
       "<matplotlib.axes._subplots.AxesSubplot at 0x123d6a5d0>"
      ]
     },
     "execution_count": 44,
     "metadata": {},
     "output_type": "execute_result"
    },
    {
     "data": {
      "image/png": "[encoded data removed]",
      "text/plain": [
       "<Figure size 432x288 with 1 Axes>"
      ]
     },
     "metadata": {
      "needs_background": "light"
     },
     "output_type": "display_data"
    }
   ],
   "source": [
    "raw_data['LIMIT_BAL'].plot.hist(bins=200)"
   ]
  },
  {
   "cell_type": "code",
   "execution_count": null,
   "metadata": {},
   "outputs": [],
   "source": [
    "raw_data.groupby('LI')"
   ]
  },
  {
   "cell_type": "code",
   "execution_count": 13,
   "metadata": {
    "scrolled": true
   },
   "outputs": [
    {
     "data": {
      "text/plain": [
       "2    11942\n",
       "1    10281\n",
       "3      236\n",
       "0       41\n",
       "Name: MARRIAGE, dtype: int64"
      ]
     },
     "execution_count": 13,
     "metadata": {},
     "output_type": "execute_result"
    }
   ],
   "source": [
    "raw_data['MARRIAGE'].value_counts()"
   ]
  },
  {
   "cell_type": "code",
   "execution_count": 45,
   "metadata": {
    "scrolled": true
   },
   "outputs": [
    {
     "data": {
      "text/html": [
       "<div>\n",
       "<style scoped>\n",
       "    .dataframe tbody tr th:only-of-type {\n",
       "        vertical-align: middle;\n",
       "    }\n",
       "\n",
       "    .dataframe tbody tr th {\n",
       "        vertical-align: top;\n",
       "    }\n",
       "\n",
       "    .dataframe thead th {\n",
       "        text-align: right;\n",
       "    }\n",
       "</style>\n",
       "<table border=\"1\" class=\"dataframe\">\n",
       "  <thead>\n",
       "    <tr style=\"text-align: right;\">\n",
       "      <th></th>\n",
       "      <th>count</th>\n",
       "      <th>mean</th>\n",
       "      <th>std</th>\n",
       "      <th>min</th>\n",
       "      <th>25%</th>\n",
       "      <th>50%</th>\n",
       "      <th>75%</th>\n",
       "      <th>max</th>\n",
       "    </tr>\n",
       "    <tr>\n",
       "      <th>SEX</th>\n",
       "      <th></th>\n",
       "      <th></th>\n",
       "      <th></th>\n",
       "      <th></th>\n",
       "      <th></th>\n",
       "      <th></th>\n",
       "      <th></th>\n",
       "      <th></th>\n",
       "    </tr>\n",
       "  </thead>\n",
       "  <tbody>\n",
       "    <tr>\n",
       "      <td>1</td>\n",
       "      <td>8943.0</td>\n",
       "      <td>162841.068993</td>\n",
       "      <td>135440.553559</td>\n",
       "      <td>10000.0</td>\n",
       "      <td>50000.0</td>\n",
       "      <td>130000.0</td>\n",
       "      <td>240000.0</td>\n",
       "      <td>800000.0</td>\n",
       "    </tr>\n",
       "    <tr>\n",
       "      <td>2</td>\n",
       "      <td>13557.0</td>\n",
       "      <td>170187.062034</td>\n",
       "      <td>125147.402500</td>\n",
       "      <td>10000.0</td>\n",
       "      <td>70000.0</td>\n",
       "      <td>150000.0</td>\n",
       "      <td>240000.0</td>\n",
       "      <td>1000000.0</td>\n",
       "    </tr>\n",
       "  </tbody>\n",
       "</table>\n",
       "</div>"
      ],
      "text/plain": [
       "       count           mean            std      min      25%       50%  \\\n",
       "SEX                                                                      \n",
       "1     8943.0  162841.068993  135440.553559  10000.0  50000.0  130000.0   \n",
       "2    13557.0  170187.062034  125147.402500  10000.0  70000.0  150000.0   \n",
       "\n",
       "          75%        max  \n",
       "SEX                       \n",
       "1    240000.0   800000.0  \n",
       "2    240000.0  1000000.0  "
      ]
     },
     "execution_count": 45,
     "metadata": {},
     "output_type": "execute_result"
    }
   ],
   "source": [
    "raw_data.groupby('SEX')['LIMIT_BAL'].describe()"
   ]
  },
  {
   "cell_type": "markdown",
   "metadata": {},
   "source": [
    "### Genders and credit limit"
   ]
  },
  {
   "cell_type": "code",
   "execution_count": 82,
   "metadata": {
    "scrolled": true
   },
   "outputs": [
    {
     "data": {
      "image/png": "[encoded data removed]",
      "text/plain": [
       "<Figure size 432x288 with 1 Axes>"
      ]
     },
     "metadata": {
      "needs_background": "light"
     },
     "output_type": "display_data"
    }
   ],
   "source": [
    "import seaborn as sns\n",
    "sns.distplot(raw_data[raw_data['SEX'] ==1]['LIMIT_BAL'],hist=False,label='Male',color='red');\n",
    "sns.distplot(raw_data[raw_data['SEX'] ==2]['LIMIT_BAL'],hist=False,label='Female');\n",
    "plt.show()"
   ]
  },
  {
   "cell_type": "code",
   "execution_count": 4,
   "metadata": {
    "scrolled": true
   },
   "outputs": [
    {
     "data": {
      "text/plain": [
       "2    10546\n",
       "1     7921\n",
       "3     3690\n",
       "5      205\n",
       "4       90\n",
       "6       35\n",
       "0       13\n",
       "Name: EDUCATION, dtype: int64"
      ]
     },
     "execution_count": 4,
     "metadata": {},
     "output_type": "execute_result"
    }
   ],
   "source": [
    "raw_data['EDUCATION'].value_counts()"
   ]
  },
  {
   "cell_type": "code",
   "execution_count": 7,
   "metadata": {
    "scrolled": true
   },
   "outputs": [
    {
     "data": {
      "text/html": [
       "<div>\n",
       "<style scoped>\n",
       "    .dataframe tbody tr th:only-of-type {\n",
       "        vertical-align: middle;\n",
       "    }\n",
       "\n",
       "    .dataframe tbody tr th {\n",
       "        vertical-align: top;\n",
       "    }\n",
       "\n",
       "    .dataframe thead tr th {\n",
       "        text-align: left;\n",
       "    }\n",
       "\n",
       "    .dataframe thead tr:last-of-type th {\n",
       "        text-align: right;\n",
       "    }\n",
       "</style>\n",
       "<table border=\"1\" class=\"dataframe\">\n",
       "  <thead>\n",
       "    <tr>\n",
       "      <th></th>\n",
       "      <th colspan=\"8\" halign=\"left\">LIMIT_BAL</th>\n",
       "    </tr>\n",
       "    <tr>\n",
       "      <th></th>\n",
       "      <th>count</th>\n",
       "      <th>mean</th>\n",
       "      <th>std</th>\n",
       "      <th>min</th>\n",
       "      <th>25%</th>\n",
       "      <th>50%</th>\n",
       "      <th>75%</th>\n",
       "      <th>max</th>\n",
       "    </tr>\n",
       "    <tr>\n",
       "      <th>EDUCATION</th>\n",
       "      <th></th>\n",
       "      <th></th>\n",
       "      <th></th>\n",
       "      <th></th>\n",
       "      <th></th>\n",
       "      <th></th>\n",
       "      <th></th>\n",
       "      <th></th>\n",
       "    </tr>\n",
       "  </thead>\n",
       "  <tbody>\n",
       "    <tr>\n",
       "      <td>0</td>\n",
       "      <td>13.0</td>\n",
       "      <td>206923.076923</td>\n",
       "      <td>80868.681143</td>\n",
       "      <td>50000.0</td>\n",
       "      <td>160000.0</td>\n",
       "      <td>210000.0</td>\n",
       "      <td>250000.0</td>\n",
       "      <td>360000.0</td>\n",
       "    </tr>\n",
       "    <tr>\n",
       "      <td>1</td>\n",
       "      <td>7921.0</td>\n",
       "      <td>211903.800025</td>\n",
       "      <td>135384.548963</td>\n",
       "      <td>10000.0</td>\n",
       "      <td>100000.0</td>\n",
       "      <td>200000.0</td>\n",
       "      <td>300000.0</td>\n",
       "      <td>1000000.0</td>\n",
       "    </tr>\n",
       "    <tr>\n",
       "      <td>2</td>\n",
       "      <td>10546.0</td>\n",
       "      <td>147838.611796</td>\n",
       "      <td>120681.991743</td>\n",
       "      <td>10000.0</td>\n",
       "      <td>50000.0</td>\n",
       "      <td>110000.0</td>\n",
       "      <td>210000.0</td>\n",
       "      <td>800000.0</td>\n",
       "    </tr>\n",
       "    <tr>\n",
       "      <td>3</td>\n",
       "      <td>3690.0</td>\n",
       "      <td>125685.008130</td>\n",
       "      <td>112936.089154</td>\n",
       "      <td>10000.0</td>\n",
       "      <td>50000.0</td>\n",
       "      <td>80000.0</td>\n",
       "      <td>180000.0</td>\n",
       "      <td>760000.0</td>\n",
       "    </tr>\n",
       "    <tr>\n",
       "      <td>4</td>\n",
       "      <td>90.0</td>\n",
       "      <td>212555.555556</td>\n",
       "      <td>103690.996338</td>\n",
       "      <td>20000.0</td>\n",
       "      <td>150000.0</td>\n",
       "      <td>200000.0</td>\n",
       "      <td>277500.0</td>\n",
       "      <td>510000.0</td>\n",
       "    </tr>\n",
       "    <tr>\n",
       "      <td>5</td>\n",
       "      <td>205.0</td>\n",
       "      <td>173804.878049</td>\n",
       "      <td>119328.846075</td>\n",
       "      <td>10000.0</td>\n",
       "      <td>80000.0</td>\n",
       "      <td>150000.0</td>\n",
       "      <td>230000.0</td>\n",
       "      <td>550000.0</td>\n",
       "    </tr>\n",
       "    <tr>\n",
       "      <td>6</td>\n",
       "      <td>35.0</td>\n",
       "      <td>134000.000000</td>\n",
       "      <td>121829.195767</td>\n",
       "      <td>10000.0</td>\n",
       "      <td>50000.0</td>\n",
       "      <td>90000.0</td>\n",
       "      <td>180000.0</td>\n",
       "      <td>540000.0</td>\n",
       "    </tr>\n",
       "  </tbody>\n",
       "</table>\n",
       "</div>"
      ],
      "text/plain": [
       "          LIMIT_BAL                                                   \\\n",
       "              count           mean            std      min       25%   \n",
       "EDUCATION                                                              \n",
       "0              13.0  206923.076923   80868.681143  50000.0  160000.0   \n",
       "1            7921.0  211903.800025  135384.548963  10000.0  100000.0   \n",
       "2           10546.0  147838.611796  120681.991743  10000.0   50000.0   \n",
       "3            3690.0  125685.008130  112936.089154  10000.0   50000.0   \n",
       "4              90.0  212555.555556  103690.996338  20000.0  150000.0   \n",
       "5             205.0  173804.878049  119328.846075  10000.0   80000.0   \n",
       "6              35.0  134000.000000  121829.195767  10000.0   50000.0   \n",
       "\n",
       "                                          \n",
       "                50%       75%        max  \n",
       "EDUCATION                                 \n",
       "0          210000.0  250000.0   360000.0  \n",
       "1          200000.0  300000.0  1000000.0  \n",
       "2          110000.0  210000.0   800000.0  \n",
       "3           80000.0  180000.0   760000.0  \n",
       "4          200000.0  277500.0   510000.0  \n",
       "5          150000.0  230000.0   550000.0  \n",
       "6           90000.0  180000.0   540000.0  "
      ]
     },
     "execution_count": 7,
     "metadata": {},
     "output_type": "execute_result"
    }
   ],
   "source": [
    "raw_data.groupby('EDUCATION')[['LIMIT_BAL']].describe()"
   ]
  },
  {
   "cell_type": "code",
   "execution_count": 9,
   "metadata": {},
   "outputs": [
    {
     "data": {
      "text/plain": [
       "13       330000\n",
       "259      200000\n",
       "320      120000\n",
       "443      120000\n",
       "496      160000\n",
       "          ...  \n",
       "22365    350000\n",
       "22372     50000\n",
       "22390    230000\n",
       "22423    180000\n",
       "22463    230000\n",
       "Name: LIMIT_BAL, Length: 205, dtype: int64"
      ]
     },
     "execution_count": 9,
     "metadata": {},
     "output_type": "execute_result"
    }
   ],
   "source": [
    "raw_data[raw_data['EDUCATION'] == 5]['LIMIT_BAL']"
   ]
  },
  {
   "cell_type": "code",
   "execution_count": 36,
   "metadata": {},
   "outputs": [
    {
     "data": {
      "text/html": [
       "<div>\n",
       "<style scoped>\n",
       "    .dataframe tbody tr th:only-of-type {\n",
       "        vertical-align: middle;\n",
       "    }\n",
       "\n",
       "    .dataframe tbody tr th {\n",
       "        vertical-align: top;\n",
       "    }\n",
       "\n",
       "    .dataframe thead th {\n",
       "        text-align: right;\n",
       "    }\n",
       "</style>\n",
       "<table border=\"1\" class=\"dataframe\">\n",
       "  <thead>\n",
       "    <tr style=\"text-align: right;\">\n",
       "      <th></th>\n",
       "      <th>index</th>\n",
       "      <th>GROUP_A</th>\n",
       "      <th>GROUP_B</th>\n",
       "      <th>STAT</th>\n",
       "      <th>P_VAL</th>\n",
       "      <th>REJECT?</th>\n",
       "    </tr>\n",
       "  </thead>\n",
       "  <tbody>\n",
       "    <tr>\n",
       "      <td>0</td>\n",
       "      <td>2</td>\n",
       "      <td>1</td>\n",
       "      <td>4</td>\n",
       "      <td>-0.045518</td>\n",
       "      <td>9.636955e-01</td>\n",
       "      <td>False</td>\n",
       "    </tr>\n",
       "    <tr>\n",
       "      <td>1</td>\n",
       "      <td>8</td>\n",
       "      <td>2</td>\n",
       "      <td>6</td>\n",
       "      <td>0.677254</td>\n",
       "      <td>4.982599e-01</td>\n",
       "      <td>False</td>\n",
       "    </tr>\n",
       "    <tr>\n",
       "      <td>2</td>\n",
       "      <td>11</td>\n",
       "      <td>3</td>\n",
       "      <td>6</td>\n",
       "      <td>-0.433200</td>\n",
       "      <td>6.648943e-01</td>\n",
       "      <td>False</td>\n",
       "    </tr>\n",
       "    <tr>\n",
       "      <td>3</td>\n",
       "      <td>14</td>\n",
       "      <td>5</td>\n",
       "      <td>6</td>\n",
       "      <td>1.818388</td>\n",
       "      <td>7.026184e-02</td>\n",
       "      <td>False</td>\n",
       "    </tr>\n",
       "    <tr>\n",
       "      <td>4</td>\n",
       "      <td>0</td>\n",
       "      <td>1</td>\n",
       "      <td>2</td>\n",
       "      <td>33.875258</td>\n",
       "      <td>4.340156e-244</td>\n",
       "      <td>True</td>\n",
       "    </tr>\n",
       "    <tr>\n",
       "      <td>5</td>\n",
       "      <td>1</td>\n",
       "      <td>1</td>\n",
       "      <td>3</td>\n",
       "      <td>33.617990</td>\n",
       "      <td>1.603495e-236</td>\n",
       "      <td>True</td>\n",
       "    </tr>\n",
       "    <tr>\n",
       "      <td>6</td>\n",
       "      <td>3</td>\n",
       "      <td>1</td>\n",
       "      <td>5</td>\n",
       "      <td>3.989258</td>\n",
       "      <td>6.686215e-05</td>\n",
       "      <td>True</td>\n",
       "    </tr>\n",
       "    <tr>\n",
       "      <td>7</td>\n",
       "      <td>4</td>\n",
       "      <td>1</td>\n",
       "      <td>6</td>\n",
       "      <td>3.398152</td>\n",
       "      <td>6.817553e-04</td>\n",
       "      <td>True</td>\n",
       "    </tr>\n",
       "    <tr>\n",
       "      <td>8</td>\n",
       "      <td>5</td>\n",
       "      <td>2</td>\n",
       "      <td>3</td>\n",
       "      <td>9.756016</td>\n",
       "      <td>2.043678e-22</td>\n",
       "      <td>True</td>\n",
       "    </tr>\n",
       "    <tr>\n",
       "      <td>9</td>\n",
       "      <td>6</td>\n",
       "      <td>2</td>\n",
       "      <td>4</td>\n",
       "      <td>-5.071399</td>\n",
       "      <td>4.015592e-07</td>\n",
       "      <td>True</td>\n",
       "    </tr>\n",
       "    <tr>\n",
       "      <td>10</td>\n",
       "      <td>7</td>\n",
       "      <td>2</td>\n",
       "      <td>5</td>\n",
       "      <td>-3.051795</td>\n",
       "      <td>2.280326e-03</td>\n",
       "      <td>True</td>\n",
       "    </tr>\n",
       "    <tr>\n",
       "      <td>11</td>\n",
       "      <td>9</td>\n",
       "      <td>3</td>\n",
       "      <td>4</td>\n",
       "      <td>-7.223257</td>\n",
       "      <td>6.108994e-13</td>\n",
       "      <td>True</td>\n",
       "    </tr>\n",
       "    <tr>\n",
       "      <td>12</td>\n",
       "      <td>10</td>\n",
       "      <td>3</td>\n",
       "      <td>5</td>\n",
       "      <td>-5.919806</td>\n",
       "      <td>3.501551e-09</td>\n",
       "      <td>True</td>\n",
       "    </tr>\n",
       "    <tr>\n",
       "      <td>13</td>\n",
       "      <td>12</td>\n",
       "      <td>4</td>\n",
       "      <td>5</td>\n",
       "      <td>2.669368</td>\n",
       "      <td>8.023219e-03</td>\n",
       "      <td>True</td>\n",
       "    </tr>\n",
       "    <tr>\n",
       "      <td>14</td>\n",
       "      <td>13</td>\n",
       "      <td>4</td>\n",
       "      <td>6</td>\n",
       "      <td>3.617617</td>\n",
       "      <td>4.324157e-04</td>\n",
       "      <td>True</td>\n",
       "    </tr>\n",
       "  </tbody>\n",
       "</table>\n",
       "</div>"
      ],
      "text/plain": [
       "    index  GROUP_A  GROUP_B       STAT          P_VAL  REJECT?\n",
       "0       2        1        4  -0.045518   9.636955e-01    False\n",
       "1       8        2        6   0.677254   4.982599e-01    False\n",
       "2      11        3        6  -0.433200   6.648943e-01    False\n",
       "3      14        5        6   1.818388   7.026184e-02    False\n",
       "4       0        1        2  33.875258  4.340156e-244     True\n",
       "5       1        1        3  33.617990  1.603495e-236     True\n",
       "6       3        1        5   3.989258   6.686215e-05     True\n",
       "7       4        1        6   3.398152   6.817553e-04     True\n",
       "8       5        2        3   9.756016   2.043678e-22     True\n",
       "9       6        2        4  -5.071399   4.015592e-07     True\n",
       "10      7        2        5  -3.051795   2.280326e-03     True\n",
       "11      9        3        4  -7.223257   6.108994e-13     True\n",
       "12     10        3        5  -5.919806   3.501551e-09     True\n",
       "13     12        4        5   2.669368   8.023219e-03     True\n",
       "14     13        4        6   3.617617   4.324157e-04     True"
      ]
     },
     "execution_count": 36,
     "metadata": {},
     "output_type": "execute_result"
    }
   ],
   "source": [
    "from itertools import combinations\n",
    "t_test_results = []\n",
    "for i in combinations(range(1,7),2):\n",
    "    a = raw_data[raw_data['EDUCATION'] == i[0]]['LIMIT_BAL']\n",
    "    b = raw_data[raw_data['EDUCATION'] == i[1]]['LIMIT_BAL'] \n",
    "    stat = stats.ttest_ind(a,b)[0]\n",
    "    p_val = stats.ttest_ind(a,b)[1]\n",
    "    reject = None\n",
    "    if p_val > .05: \n",
    "        reject = False\n",
    "    else:\n",
    "        reject = True\n",
    "    t_test_results.append((i[0],i[1],stat,p_val,reject))\n",
    "pd.DataFrame(t_test_results,columns=['GROUP_A', 'GROUP_B','STAT','P_VAL','REJECT?']).sort_values(by='REJECT?').reset_index()"
   ]
  },
  {
   "cell_type": "code",
   "execution_count": 14,
   "metadata": {
    "scrolled": true
   },
   "outputs": [
    {
     "data": {
      "text/plain": [
       "Ttest_indResult(statistic=-0.9852916843516252, pvalue=0.32558318985092527)"
      ]
     },
     "execution_count": 14,
     "metadata": {},
     "output_type": "execute_result"
    }
   ],
   "source": [
    "import scipy.stats as stats\n",
    "stats.ttest_ind(raw_data[raw_data['EDUCATION'] == 5]['LIMIT_BAL'],raw_data[raw_data['EDUCATION'] == 0]['LIMIT_BAL'])"
   ]
  },
  {
   "cell_type": "code",
   "execution_count": 32,
   "metadata": {},
   "outputs": [
    {
     "data": {
      "text/html": [
       "<div>\n",
       "<style scoped>\n",
       "    .dataframe tbody tr th:only-of-type {\n",
       "        vertical-align: middle;\n",
       "    }\n",
       "\n",
       "    .dataframe tbody tr th {\n",
       "        vertical-align: top;\n",
       "    }\n",
       "\n",
       "    .dataframe thead th {\n",
       "        text-align: right;\n",
       "    }\n",
       "</style>\n",
       "<table border=\"1\" class=\"dataframe\">\n",
       "  <thead>\n",
       "    <tr style=\"text-align: right;\">\n",
       "      <th></th>\n",
       "      <th>GROUP_A</th>\n",
       "      <th>GROUP_B</th>\n",
       "      <th>STAT</th>\n",
       "      <th>P_VAL</th>\n",
       "      <th>REJECT?</th>\n",
       "    </tr>\n",
       "  </thead>\n",
       "  <tbody>\n",
       "    <tr>\n",
       "      <td>1</td>\n",
       "      <td>0</td>\n",
       "      <td>2</td>\n",
       "      <td>-1.026611</td>\n",
       "      <td>3.046242e-01</td>\n",
       "      <td>False</td>\n",
       "    </tr>\n",
       "    <tr>\n",
       "      <td>0</td>\n",
       "      <td>0</td>\n",
       "      <td>1</td>\n",
       "      <td>-2.199877</td>\n",
       "      <td>2.783771e-02</td>\n",
       "      <td>True</td>\n",
       "    </tr>\n",
       "    <tr>\n",
       "      <td>2</td>\n",
       "      <td>0</td>\n",
       "      <td>3</td>\n",
       "      <td>2.330972</td>\n",
       "      <td>2.047786e-02</td>\n",
       "      <td>True</td>\n",
       "    </tr>\n",
       "    <tr>\n",
       "      <td>3</td>\n",
       "      <td>1</td>\n",
       "      <td>2</td>\n",
       "      <td>14.736983</td>\n",
       "      <td>6.351539e-49</td>\n",
       "      <td>True</td>\n",
       "    </tr>\n",
       "    <tr>\n",
       "      <td>4</td>\n",
       "      <td>1</td>\n",
       "      <td>3</td>\n",
       "      <td>9.524928</td>\n",
       "      <td>2.014908e-21</td>\n",
       "      <td>True</td>\n",
       "    </tr>\n",
       "    <tr>\n",
       "      <td>5</td>\n",
       "      <td>2</td>\n",
       "      <td>3</td>\n",
       "      <td>6.979969</td>\n",
       "      <td>3.105651e-12</td>\n",
       "      <td>True</td>\n",
       "    </tr>\n",
       "  </tbody>\n",
       "</table>\n",
       "</div>"
      ],
      "text/plain": [
       "   GROUP_A  GROUP_B       STAT         P_VAL  REJECT?\n",
       "1        0        2  -1.026611  3.046242e-01    False\n",
       "0        0        1  -2.199877  2.783771e-02     True\n",
       "2        0        3   2.330972  2.047786e-02     True\n",
       "3        1        2  14.736983  6.351539e-49     True\n",
       "4        1        3   9.524928  2.014908e-21     True\n",
       "5        2        3   6.979969  3.105651e-12     True"
      ]
     },
     "execution_count": 32,
     "metadata": {},
     "output_type": "execute_result"
    }
   ],
   "source": [
    "t_test_results_mar = []\n",
    "for i in combinations(range(4),2):\n",
    "    a = raw_data[raw_data['MARRIAGE'] == i[0]]['LIMIT_BAL']\n",
    "    b = raw_data[raw_data['MARRIAGE'] == i[1]]['LIMIT_BAL'] \n",
    "    stat = stats.ttest_ind(a,b)[0]\n",
    "    p_val = stats.ttest_ind(a,b)[1]\n",
    "    if p_val > .05: \n",
    "        reject = False\n",
    "    else:\n",
    "        reject = True\n",
    "    t_test_results_mar.append((i[0],i[1],stat,p_val,reject))\n",
    "pd.DataFrame(t_test_results_mar,columns=['GROUP_A', 'GROUP_B','STAT','P_VAL','REJECT?']).sort_values(by='REJECT?')"
   ]
  },
  {
   "cell_type": "code",
   "execution_count": 47,
   "metadata": {},
   "outputs": [
    {
     "data": {
      "text/plain": [
       "2    0.602533\n",
       "1    0.397467\n",
       "Name: SEX, dtype: float64"
      ]
     },
     "execution_count": 47,
     "metadata": {},
     "output_type": "execute_result"
    }
   ],
   "source": [
    "raw_data['SEX'].value_counts(normalize=True)"
   ]
  },
  {
   "cell_type": "code",
   "execution_count": 33,
   "metadata": {},
   "outputs": [
    {
     "data": {
      "text/html": [
       "<div>\n",
       "<style scoped>\n",
       "    .dataframe tbody tr th:only-of-type {\n",
       "        vertical-align: middle;\n",
       "    }\n",
       "\n",
       "    .dataframe tbody tr th {\n",
       "        vertical-align: top;\n",
       "    }\n",
       "\n",
       "    .dataframe thead th {\n",
       "        text-align: right;\n",
       "    }\n",
       "</style>\n",
       "<table border=\"1\" class=\"dataframe\">\n",
       "  <thead>\n",
       "    <tr style=\"text-align: right;\">\n",
       "      <th></th>\n",
       "      <th>GROUP_A</th>\n",
       "      <th>GROUP_B</th>\n",
       "      <th>STAT</th>\n",
       "      <th>P_VAL</th>\n",
       "      <th>REJECT?</th>\n",
       "    </tr>\n",
       "  </thead>\n",
       "  <tbody>\n",
       "    <tr>\n",
       "      <td>0</td>\n",
       "      <td>1</td>\n",
       "      <td>2</td>\n",
       "      <td>-4.169281</td>\n",
       "      <td>0.000031</td>\n",
       "      <td>True</td>\n",
       "    </tr>\n",
       "  </tbody>\n",
       "</table>\n",
       "</div>"
      ],
      "text/plain": [
       "   GROUP_A  GROUP_B      STAT     P_VAL  REJECT?\n",
       "0        1        2 -4.169281  0.000031     True"
      ]
     },
     "execution_count": 33,
     "metadata": {},
     "output_type": "execute_result"
    }
   ],
   "source": [
    "t_test_results_sex = []\n",
    "for i in combinations(range(1,3),2):\n",
    "    a = raw_data[raw_data['SEX'] == i[0]]['LIMIT_BAL']\n",
    "    b = raw_data[raw_data['SEX'] == i[1]]['LIMIT_BAL'] \n",
    "    stat = stats.ttest_ind(a,b)[0]\n",
    "    p_val = stats.ttest_ind(a,b)[1]\n",
    "    if p_val > .05: \n",
    "        reject = False\n",
    "    else:\n",
    "        reject = True\n",
    "    t_test_results_sex.append((i[0],i[1],stat,p_val,reject))\n",
    "pd.DataFrame(t_test_results_sex,columns=['GROUP_A', 'GROUP_B','STAT','P_VAL','REJECT?']).sort_values(by='REJECT?')"
   ]
  },
  {
   "cell_type": "code",
   "execution_count": 18,
   "metadata": {},
   "outputs": [
    {
     "data": {
      "text/plain": [
       "count    22500.000000\n",
       "mean        35.526000\n",
       "std          9.231461\n",
       "min         21.000000\n",
       "25%         28.000000\n",
       "50%         34.000000\n",
       "75%         41.000000\n",
       "max         79.000000\n",
       "Name: AGE, dtype: float64"
      ]
     },
     "execution_count": 18,
     "metadata": {},
     "output_type": "execute_result"
    }
   ],
   "source": [
    "raw_data.AGE.describe()"
   ]
  },
  {
   "cell_type": "code",
   "execution_count": 24,
   "metadata": {},
   "outputs": [
    {
     "data": {
      "text/html": [
       "<div>\n",
       "<style scoped>\n",
       "    .dataframe tbody tr th:only-of-type {\n",
       "        vertical-align: middle;\n",
       "    }\n",
       "\n",
       "    .dataframe tbody tr th {\n",
       "        vertical-align: top;\n",
       "    }\n",
       "\n",
       "    .dataframe thead th {\n",
       "        text-align: right;\n",
       "    }\n",
       "</style>\n",
       "<table border=\"1\" class=\"dataframe\">\n",
       "  <thead>\n",
       "    <tr style=\"text-align: right;\">\n",
       "      <th></th>\n",
       "      <th>AGE</th>\n",
       "      <th>LIMIT_BAL</th>\n",
       "    </tr>\n",
       "    <tr>\n",
       "      <th>MARRIAGE</th>\n",
       "      <th></th>\n",
       "      <th></th>\n",
       "    </tr>\n",
       "  </thead>\n",
       "  <tbody>\n",
       "    <tr>\n",
       "      <td>0</td>\n",
       "      <td>37.0</td>\n",
       "      <td>136098.0</td>\n",
       "    </tr>\n",
       "    <tr>\n",
       "      <td>1</td>\n",
       "      <td>40.0</td>\n",
       "      <td>181788.0</td>\n",
       "    </tr>\n",
       "    <tr>\n",
       "      <td>2</td>\n",
       "      <td>31.0</td>\n",
       "      <td>156224.0</td>\n",
       "    </tr>\n",
       "    <tr>\n",
       "      <td>3</td>\n",
       "      <td>43.0</td>\n",
       "      <td>98898.0</td>\n",
       "    </tr>\n",
       "  </tbody>\n",
       "</table>\n",
       "</div>"
      ],
      "text/plain": [
       "           AGE  LIMIT_BAL\n",
       "MARRIAGE                 \n",
       "0         37.0   136098.0\n",
       "1         40.0   181788.0\n",
       "2         31.0   156224.0\n",
       "3         43.0    98898.0"
      ]
     },
     "execution_count": 24,
     "metadata": {},
     "output_type": "execute_result"
    }
   ],
   "source": [
    "raw_data.groupby(by='MARRIAGE').mean()[['AGE','LIMIT_BAL']].round()"
   ]
  },
  {
   "cell_type": "code",
   "execution_count": 28,
   "metadata": {},
   "outputs": [
    {
     "data": {
      "text/html": [
       "<div>\n",
       "<style scoped>\n",
       "    .dataframe tbody tr th:only-of-type {\n",
       "        vertical-align: middle;\n",
       "    }\n",
       "\n",
       "    .dataframe tbody tr th {\n",
       "        vertical-align: top;\n",
       "    }\n",
       "\n",
       "    .dataframe thead th {\n",
       "        text-align: right;\n",
       "    }\n",
       "</style>\n",
       "<table border=\"1\" class=\"dataframe\">\n",
       "  <thead>\n",
       "    <tr style=\"text-align: right;\">\n",
       "      <th></th>\n",
       "      <th>count</th>\n",
       "      <th>mean</th>\n",
       "      <th>std</th>\n",
       "      <th>min</th>\n",
       "      <th>25%</th>\n",
       "      <th>50%</th>\n",
       "      <th>75%</th>\n",
       "      <th>max</th>\n",
       "    </tr>\n",
       "    <tr>\n",
       "      <th>MARRIAGE</th>\n",
       "      <th></th>\n",
       "      <th></th>\n",
       "      <th></th>\n",
       "      <th></th>\n",
       "      <th></th>\n",
       "      <th></th>\n",
       "      <th></th>\n",
       "      <th></th>\n",
       "    </tr>\n",
       "  </thead>\n",
       "  <tbody>\n",
       "    <tr>\n",
       "      <td>0</td>\n",
       "      <td>41.0</td>\n",
       "      <td>37.097561</td>\n",
       "      <td>8.024353</td>\n",
       "      <td>24.0</td>\n",
       "      <td>31.00</td>\n",
       "      <td>37.0</td>\n",
       "      <td>44.0</td>\n",
       "      <td>56.0</td>\n",
       "    </tr>\n",
       "    <tr>\n",
       "      <td>1</td>\n",
       "      <td>10281.0</td>\n",
       "      <td>40.073339</td>\n",
       "      <td>8.752624</td>\n",
       "      <td>21.0</td>\n",
       "      <td>34.00</td>\n",
       "      <td>39.0</td>\n",
       "      <td>46.0</td>\n",
       "      <td>79.0</td>\n",
       "    </tr>\n",
       "    <tr>\n",
       "      <td>2</td>\n",
       "      <td>11942.0</td>\n",
       "      <td>31.465835</td>\n",
       "      <td>7.573339</td>\n",
       "      <td>21.0</td>\n",
       "      <td>26.00</td>\n",
       "      <td>29.0</td>\n",
       "      <td>35.0</td>\n",
       "      <td>70.0</td>\n",
       "    </tr>\n",
       "    <tr>\n",
       "      <td>3</td>\n",
       "      <td>236.0</td>\n",
       "      <td>42.605932</td>\n",
       "      <td>9.449159</td>\n",
       "      <td>22.0</td>\n",
       "      <td>36.75</td>\n",
       "      <td>43.0</td>\n",
       "      <td>49.0</td>\n",
       "      <td>65.0</td>\n",
       "    </tr>\n",
       "  </tbody>\n",
       "</table>\n",
       "</div>"
      ],
      "text/plain": [
       "            count       mean       std   min    25%   50%   75%   max\n",
       "MARRIAGE                                                             \n",
       "0            41.0  37.097561  8.024353  24.0  31.00  37.0  44.0  56.0\n",
       "1         10281.0  40.073339  8.752624  21.0  34.00  39.0  46.0  79.0\n",
       "2         11942.0  31.465835  7.573339  21.0  26.00  29.0  35.0  70.0\n",
       "3           236.0  42.605932  9.449159  22.0  36.75  43.0  49.0  65.0"
      ]
     },
     "execution_count": 28,
     "metadata": {},
     "output_type": "execute_result"
    }
   ],
   "source": [
    "raw_data.groupby(by='MARRIAGE')['AGE'].describe()"
   ]
  },
  {
   "cell_type": "markdown",
   "metadata": {},
   "source": [
    "How many poeple in this dataset defaulted the next month?"
   ]
  },
  {
   "cell_type": "code",
   "execution_count": null,
   "metadata": {},
   "outputs": [],
   "source": []
  }
 ],
 "metadata": {
  "kernelspec": {
   "display_name": "Python 3",
   "language": "python",
   "name": "python3"
  },
  "language_info": {
   "codemirror_mode": {
    "name": "ipython",
    "version": 3
   },
   "file_extension": ".py",
   "mimetype": "text/x-python",
   "name": "python",
   "nbconvert_exporter": "python",
   "pygments_lexer": "ipython3",
   "version": "3.7.4"
  }
 },
 "nbformat": 4,
 "nbformat_minor": 2
}
